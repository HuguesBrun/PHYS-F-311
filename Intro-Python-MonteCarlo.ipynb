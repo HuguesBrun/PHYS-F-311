{
 "cells": [
  {
   "cell_type": "markdown",
   "metadata": {},
   "source": [
    "# Intro Python PHYS-311"
   ]
  },
  {
   "cell_type": "markdown",
   "metadata": {},
   "source": [
    "Now we are going to import some modules that we will use in our notebook, <code> numpy </code>, <code> scipy </code> and <code> matplotlib </code>. We will use an alias for each of the modules."
   ]
  },
  {
   "cell_type": "code",
   "execution_count": 98,
   "metadata": {
    "collapsed": true
   },
   "outputs": [],
   "source": [
    "import numpy as np\n",
    "import scipy as sp\n"
   ]
  },
  {
   "cell_type": "markdown",
   "metadata": {},
   "source": [
    "### Variables"
   ]
  },
  {
   "cell_type": "markdown",
   "metadata": {},
   "source": [
    "Python doesn't require explicitly declared variable types, like C and other languages do. Just assign a variable and Python understands what you want:"
   ]
  },
  {
   "cell_type": "code",
   "execution_count": 99,
   "metadata": {},
   "outputs": [],
   "source": [
    "a = 5      # a is an integer 5\n",
    "b = 'five' # b is a string of the word 'five'\n",
    "c = 5.0    # c is a floating point 5  "
   ]
  },
  {
   "cell_type": "markdown",
   "metadata": {},
   "source": [
    "You can ask python to tell you the type of the variable"
   ]
  },
  {
   "cell_type": "code",
   "execution_count": 100,
   "metadata": {},
   "outputs": [
    {
     "name": "stdout",
     "output_type": "stream",
     "text": [
      "(<type 'int'>, <type 'str'>, <type 'float'>)\n"
     ]
    }
   ],
   "source": [
    "print(type(a), type(b), type(c))"
   ]
  },
  {
   "cell_type": "markdown",
   "metadata": {},
   "source": [
    "#### Lists\n",
    "\n",
    "Lists in python are like C arrays except that each element can be of any type.\n",
    "The syntax for creating lists in Python is [...]:"
   ]
  },
  {
   "cell_type": "code",
   "execution_count": 227,
   "metadata": {},
   "outputs": [
    {
     "name": "stdout",
     "output_type": "stream",
     "text": [
      "<type 'list'>\n"
     ]
    }
   ],
   "source": [
    "l = [23, 234, 3.1416, 45, 341, 33, \"I am in a list\", True]\n",
    "print type(l)"
   ]
  },
  {
   "cell_type": "markdown",
   "metadata": {},
   "source": [
    "We can use the same slicing techniques to manipulate lists:"
   ]
  },
  {
   "cell_type": "code",
   "execution_count": 232,
   "metadata": {},
   "outputs": [
    {
     "name": "stdout",
     "output_type": "stream",
     "text": [
      "[234, 3.1416, 45]\n",
      "True\n",
      "45\n",
      "[23, 234, 3.1416, 45, 341, 33, 'I am in a list', True]\n",
      "[23, 3.1416, 341, 'I am in a list']\n"
     ]
    }
   ],
   "source": [
    "print l[1:4] # slides of elements from 1 to 2\n",
    "print l[-1] #last element\n",
    "print l[3] # third element\n",
    "print l[:] #all elements (Same as l)\n",
    "print l[::2] #elements from 0 to last in steps of 2"
   ]
  },
  {
   "cell_type": "markdown",
   "metadata": {},
   "source": [
    "The function <code> range </code> in python is widely use to generate enumeration lists:"
   ]
  },
  {
   "cell_type": "code",
   "execution_count": 235,
   "metadata": {},
   "outputs": [
    {
     "name": "stdout",
     "output_type": "stream",
     "text": [
      "[2, 4, 6, 8]\n"
     ]
    }
   ],
   "source": [
    "print range(2, 10, 2) # range from 2 to 10 in steps of 2. End point is omitted!"
   ]
  },
  {
   "cell_type": "markdown",
   "metadata": {},
   "source": [
    "### Functions"
   ]
  },
  {
   "cell_type": "markdown",
   "metadata": {},
   "source": [
    "A function is a block of organized, reusable code that is used to perform a single, related action. Functions provide better modularity for your application and a high degree of code reusing. As you already know, python gives you many built-in functions like print(), etc. but you can also create your own functions. The syntax for functions is:\n",
    "\n",
    "```python\n",
    "def functionname( parameters ):\n",
    "   \"\"\"docstring\"\"\"\n",
    "   code\n",
    "   return something\n",
    "```\n",
    "\n",
    "An example is:"
   ]
  },
  {
   "cell_type": "code",
   "execution_count": 236,
   "metadata": {},
   "outputs": [
    {
     "name": "stdout",
     "output_type": "stream",
     "text": [
      "16\n"
     ]
    }
   ],
   "source": [
    "def mypower(x, power):\n",
    "    return x**power\n",
    "\n",
    "print mypower(4,2)"
   ]
  },
  {
   "cell_type": "markdown",
   "metadata": {},
   "source": [
    "We can create functions with conditions for example:"
   ]
  },
  {
   "cell_type": "code",
   "execution_count": 237,
   "metadata": {},
   "outputs": [
    {
     "name": "stdout",
     "output_type": "stream",
     "text": [
      "0 0.703125\n"
     ]
    }
   ],
   "source": [
    "def myfunction(x):\n",
    "    if x < -1 or x > 1:\n",
    "        return 0\n",
    "    else:\n",
    "        return 15./4. * (x**2 - x**4)\n",
    "    \n",
    "print myfunction(3), myfunction(0.5)"
   ]
  },
  {
   "cell_type": "markdown",
   "metadata": {},
   "source": [
    "### The power of Python: Modules"
   ]
  },
  {
   "cell_type": "markdown",
   "metadata": {},
   "source": [
    "Most of the functionality in Python is provided by *modules*. The Python Standard Library is a large collection of modules that provides *cross-platform* implementations of common facilities such as access to the operating system, file I/O, string management, network communication, and much more.\n",
    "\n",
    "* Must haves\n",
    "    * [numpy](www.numpy.org): random numbers, arrays, transcendental functions, linear algebra.\n",
    "    * `scipy`: statistical tests, special functions, integration, curve fitting, minimization.\n",
    "    * `matplotlib`: plotting: xy plots, error bars, contour plots, histograms.\n"
   ]
  },
  {
   "cell_type": "markdown",
   "metadata": {},
   "source": [
    "### Importing style"
   ]
  },
  {
   "cell_type": "markdown",
   "metadata": {},
   "source": [
    "There are several ways to load a module for example, in the case of numpy we could do:\n",
    "\n",
    "**Option 1**:  \n",
    "```Python \n",
    "import numpy\n",
    "x = numpy.cos(2 * numpy.pi)\n",
    "```\n",
    "\n",
    "**Option 2**:  \n",
    "```Python \n",
    "import numpy as np\n",
    "x = np.cos(2 * np.pi)\n",
    "```\n",
    "\n",
    "**Option 3**:  \n",
    "```Python \n",
    "from numpy import cos, pi\n",
    "x = cos(2 * pi)\n",
    "```\n",
    "\n",
    "**Option 4**:  \n",
    "```Python \n",
    "from numpy import *\n",
    "x = cos(2 * pi)\n",
    "```\n",
    "\n",
    "Options **1** and **2** are the preferred one. They allowed you to keep each function related to its function. For example, there is another module `math` with a the function `cos` implemented, by keeping the `np.cos` or `numpy.cos` you avoid confusion between them. Option **3** might be used we need access only to some of the functions inside the module. Option **4** saves a lot of typing but is sloppy and **not recommended**. \n",
    "\n",
    "\n",
    "Explicit is better than implicit"
   ]
  },
  {
   "cell_type": "markdown",
   "metadata": {},
   "source": [
    "### The numpy module"
   ]
  },
  {
   "cell_type": "markdown",
   "metadata": {},
   "source": [
    "The <code>numpy</code> package (module) is used in almost all numerical computation using Python. It is a package that provide high-performance vector, matrix and higher-dimensional data structures for Python. It is implemented in C and <code>Fortran</code> so when calculations are vectorized (formulated with vectors and matrices), performance is very good. \n",
    "\n",
    "The central feature of NumPy is the array object class. Arrays are similar to lists in Python, except that every element of an array must be of the same type, typically a numeric type like float or int. Arrays make operations with large amounts of numeric data very fast and are generally much more efficient than lists. An array can be created from a list by using the array function. You can use the second argument to specify what type of data is in the list or leave it out entirely for numpy to decided what kind of data it is."
   ]
  },
  {
   "cell_type": "code",
   "execution_count": 238,
   "metadata": {},
   "outputs": [
    {
     "name": "stdout",
     "output_type": "stream",
     "text": [
      "[ 1.  4.  5.  8.]\n",
      "<type 'numpy.ndarray'>\n"
     ]
    }
   ],
   "source": [
    "a = np.array([1, 4, 5, 8], float) \n",
    "print a\n",
    "print type(a)"
   ]
  },
  {
   "cell_type": "markdown",
   "metadata": {},
   "source": [
    "Arrays can be multidimensional. Unlike lists, different axes are accessed using commas inside bracket notation. Here is an example with a two-dimensional array (aka, a matrix)"
   ]
  },
  {
   "cell_type": "code",
   "execution_count": 239,
   "metadata": {},
   "outputs": [
    {
     "name": "stdout",
     "output_type": "stream",
     "text": [
      "[[ 1.  2.  3.]\n",
      " [ 4.  5.  6.]]\n",
      "1.0\n",
      "2.0\n"
     ]
    }
   ],
   "source": [
    "a = np.array([[1, 2, 3], [4, 5, 6]], float) \n",
    "print a\n",
    "print a[0,0]\n",
    "print a[0,1]"
   ]
  },
  {
   "cell_type": "markdown",
   "metadata": {},
   "source": [
    "Array slicing works with multiple dimensions in the same way as usual, applying each slice specification as a filter to a specified dimension. Use of a single \":\" in a dimension indicates the use of everything along that dimension. \n"
   ]
  },
  {
   "cell_type": "code",
   "execution_count": 240,
   "metadata": {},
   "outputs": [
    {
     "name": "stdout",
     "output_type": "stream",
     "text": [
      "[ 4.  5.  6.]\n",
      "[ 3.  6.]\n",
      "[[ 5.  6.]]\n"
     ]
    }
   ],
   "source": [
    "print(a[1,:])\n",
    "print(a[:,2])\n",
    "print(a[-1:,-2:])"
   ]
  },
  {
   "cell_type": "markdown",
   "metadata": {},
   "source": [
    "The shape property of an array returns a tuple with the size of each array dimension: "
   ]
  },
  {
   "cell_type": "code",
   "execution_count": 241,
   "metadata": {},
   "outputs": [
    {
     "data": {
      "text/plain": [
       "(2, 3)"
      ]
     },
     "execution_count": 241,
     "metadata": {},
     "output_type": "execute_result"
    }
   ],
   "source": [
    "a.shape"
   ]
  },
  {
   "cell_type": "markdown",
   "metadata": {},
   "source": [
    "Functions in <code>numpy</code> are vectorized meaning they can take arrays as arguments:"
   ]
  },
  {
   "cell_type": "code",
   "execution_count": 242,
   "metadata": {},
   "outputs": [
    {
     "name": "stdout",
     "output_type": "stream",
     "text": [
      "1.0\n",
      "[[  1.   4.   9.]\n",
      " [ 16.  25.  36.]]\n"
     ]
    }
   ],
   "source": [
    "x = a[0,0] #this is a scaler\n",
    "print np.power(x,2)\n",
    "print np.power(a,2)"
   ]
  },
  {
   "cell_type": "markdown",
   "metadata": {},
   "source": [
    "This will not work with our function defined with conditions, example:"
   ]
  },
  {
   "cell_type": "code",
   "execution_count": 243,
   "metadata": {},
   "outputs": [
    {
     "ename": "ValueError",
     "evalue": "The truth value of an array with more than one element is ambiguous. Use a.any() or a.all()",
     "output_type": "error",
     "traceback": [
      "\u001b[0;31m---------------------------------------------------------------------------\u001b[0m",
      "\u001b[0;31mValueError\u001b[0m                                Traceback (most recent call last)",
      "\u001b[0;32m<ipython-input-243-05d090498a14>\u001b[0m in \u001b[0;36m<module>\u001b[0;34m()\u001b[0m\n\u001b[1;32m      1\u001b[0m \u001b[0mx\u001b[0m \u001b[0;34m=\u001b[0m \u001b[0mnp\u001b[0m\u001b[0;34m.\u001b[0m\u001b[0mlinspace\u001b[0m\u001b[0;34m(\u001b[0m\u001b[0;34m-\u001b[0m\u001b[0;36m1\u001b[0m\u001b[0;34m,\u001b[0m \u001b[0;36m1\u001b[0m\u001b[0;34m,\u001b[0m \u001b[0;36m50\u001b[0m\u001b[0;34m,\u001b[0m \u001b[0mendpoint\u001b[0m\u001b[0;34m=\u001b[0m\u001b[0mTrue\u001b[0m\u001b[0;34m)\u001b[0m \u001b[0;31m# this creates an array between -1, 1 with 50 points\u001b[0m\u001b[0;34m\u001b[0m\u001b[0m\n\u001b[0;32m----> 2\u001b[0;31m \u001b[0;32mprint\u001b[0m \u001b[0mmyfunction\u001b[0m\u001b[0;34m(\u001b[0m\u001b[0mx\u001b[0m\u001b[0;34m)\u001b[0m\u001b[0;34m\u001b[0m\u001b[0m\n\u001b[0m",
      "\u001b[0;32m<ipython-input-237-b7d26019d92d>\u001b[0m in \u001b[0;36mmyfunction\u001b[0;34m(x)\u001b[0m\n\u001b[1;32m      1\u001b[0m \u001b[0;32mdef\u001b[0m \u001b[0mmyfunction\u001b[0m\u001b[0;34m(\u001b[0m\u001b[0mx\u001b[0m\u001b[0;34m)\u001b[0m\u001b[0;34m:\u001b[0m\u001b[0;34m\u001b[0m\u001b[0m\n\u001b[0;32m----> 2\u001b[0;31m     \u001b[0;32mif\u001b[0m \u001b[0mx\u001b[0m \u001b[0;34m<\u001b[0m \u001b[0;34m-\u001b[0m\u001b[0;36m1\u001b[0m \u001b[0;32mor\u001b[0m \u001b[0mx\u001b[0m \u001b[0;34m>\u001b[0m \u001b[0;36m1\u001b[0m\u001b[0;34m:\u001b[0m\u001b[0;34m\u001b[0m\u001b[0m\n\u001b[0m\u001b[1;32m      3\u001b[0m         \u001b[0;32mreturn\u001b[0m \u001b[0;36m0\u001b[0m\u001b[0;34m\u001b[0m\u001b[0m\n\u001b[1;32m      4\u001b[0m     \u001b[0;32melse\u001b[0m\u001b[0;34m:\u001b[0m\u001b[0;34m\u001b[0m\u001b[0m\n\u001b[1;32m      5\u001b[0m         \u001b[0;32mreturn\u001b[0m \u001b[0;36m15.\u001b[0m\u001b[0;34m/\u001b[0m\u001b[0;36m4.\u001b[0m \u001b[0;34m*\u001b[0m \u001b[0;34m(\u001b[0m\u001b[0mx\u001b[0m\u001b[0;34m**\u001b[0m\u001b[0;36m2\u001b[0m \u001b[0;34m-\u001b[0m \u001b[0mx\u001b[0m\u001b[0;34m**\u001b[0m\u001b[0;36m4\u001b[0m\u001b[0;34m)\u001b[0m\u001b[0;34m\u001b[0m\u001b[0m\n",
      "\u001b[0;31mValueError\u001b[0m: The truth value of an array with more than one element is ambiguous. Use a.any() or a.all()"
     ]
    }
   ],
   "source": [
    "x = np.linspace(-1, 1, 50, endpoint=True) # this creates an array between -1, 1 with 50 points\n",
    "print myfunction(x)"
   ]
  },
  {
   "cell_type": "markdown",
   "metadata": {},
   "source": [
    "We can handle better errors by using the function:\n",
    "```Python\n",
    "    try:\n",
    "        statement\n",
    "    except:\n",
    "        print(\"Caught an exception\")\n",
    "```\n",
    "To get information about the error, we can access the Exception class instance that describes the\n",
    "exception by using for example:"
   ]
  },
  {
   "cell_type": "code",
   "execution_count": 244,
   "metadata": {},
   "outputs": [
    {
     "name": "stdout",
     "output_type": "stream",
     "text": [
      "Caught exception: The truth value of an array with more than one element is ambiguous. Use a.any() or a.all()\n"
     ]
    }
   ],
   "source": [
    "try:\n",
    "    myfunction(x)\n",
    "except Exception as e:\n",
    "    print(\"Caught exception: %s\"%e)"
   ]
  },
  {
   "cell_type": "markdown",
   "metadata": {},
   "source": [
    "To avoid this error we can *vectorized* our function using the `numpy` function `np.vectorize(function)`:"
   ]
  },
  {
   "cell_type": "code",
   "execution_count": 245,
   "metadata": {},
   "outputs": [
    {
     "name": "stdout",
     "output_type": "stream",
     "text": [
      "[ 0.          0.27589504  0.4952903   0.66393098  0.78731252  0.87068053\n",
      "  0.91903086  0.93710954  0.92941283  0.90018719  0.85342929  0.792886\n",
      "  0.72205441  0.64418182  0.56226572  0.47905383  0.39704406  0.31848454\n",
      "  0.2453736   0.17945979  0.12224186  0.07496876  0.03863967  0.01400395\n",
      "  0.0015612   0.0015612   0.01400395  0.03863967  0.07496876  0.12224186\n",
      "  0.17945979  0.2453736   0.31848454  0.39704406  0.47905383  0.56226572\n",
      "  0.64418182  0.72205441  0.792886    0.85342929  0.90018719  0.92941283\n",
      "  0.93710954  0.91903086  0.87068053  0.78731252  0.66393098  0.4952903\n",
      "  0.27589504  0.        ]\n"
     ]
    }
   ],
   "source": [
    "vmyfunction = np.vectorize(myfunction)\n",
    "\n",
    "y = vmyfunction(x)\n",
    "\n",
    "print y"
   ]
  },
  {
   "cell_type": "markdown",
   "metadata": {},
   "source": [
    "### The matplotlib module\n",
    "\n",
    "Matplotlib is an excellent 2D and 3D graphics library for generating scientific figures. The tidy thing to import matplotlib.pyplot matplotlib.pyplot module under the name plt (the tidy way):"
   ]
  },
  {
   "cell_type": "code",
   "execution_count": 246,
   "metadata": {
    "collapsed": true
   },
   "outputs": [],
   "source": [
    "#this line tells matplotlib to show the images inline in the notebook instead of openning a new window\n",
    "%matplotlib inline\n",
    "\n",
    "import matplotlib.pyplot as plt"
   ]
  },
  {
   "cell_type": "code",
   "execution_count": 247,
   "metadata": {},
   "outputs": [
    {
     "data": {
      "image/png": "[encoded data removed]",
      "text/plain": [
       "<matplotlib.figure.Figure at 0x111e18410>"
      ]
     },
     "metadata": {},
     "output_type": "display_data"
    }
   ],
   "source": [
    "fig = plt.figure(figsize=(8,6))\n",
    "\n",
    "#fig, ax = plt.subplots(figsize=(8,6)) Another way to generate figure and axes at the same time\n",
    "\n",
    "ax = fig.add_axes([0.1, 0.1, 0.8, 0.8]) # left, bottom, width, height (range 0 to 1)\n",
    "\n",
    "ax.plot(x, y, 'b--', lw=4)\n",
    "\n",
    "ax.set_xlabel('x')\n",
    "ax.set_ylabel('y')\n",
    "ax.set_xlim(-1,1)\n",
    "ax.grid()\n",
    "ax.set_title('My Function');"
   ]
  },
  {
   "cell_type": "markdown",
   "metadata": {},
   "source": [
    "\n",
    "We can use numpy also to calculate the integral using the trapezoidal method:"
   ]
  },
  {
   "cell_type": "code",
   "execution_count": 250,
   "metadata": {},
   "outputs": [
    {
     "name": "stdout",
     "output_type": "stream",
     "text": [
      "The integral of the function is 0.9979\n"
     ]
    }
   ],
   "source": [
    "dx = np.diff(x)[0] # numpy diff calcualtes the difference of x[i+1] - x[i], it returns an array.\n",
    "integral = np.trapz(y, dx = dx )\n",
    "print (\"The integral of the function is %.4f\"%integral)\n"
   ]
  },
  {
   "cell_type": "markdown",
   "metadata": {},
   "source": [
    "### MonteCarlo simulation using Hit and Miss "
   ]
  },
  {
   "cell_type": "markdown",
   "metadata": {},
   "source": [
    "Now we are going to see the simulation of any user-defined function using the MonteCarlo. First we are going to use a method à la C, ie with loops etc. Then we will see the more <code> pythonic </code> way using vectorized functions"
   ]
  },
  {
   "cell_type": "code",
   "execution_count": 251,
   "metadata": {},
   "outputs": [
    {
     "name": "stdout",
     "output_type": "stream",
     "text": [
      "0.937109537693\n"
     ]
    }
   ],
   "source": [
    "mc_events = 10000 #this is the number of randon numbers generated but not the ones we actually use!\n",
    "ymax = np.max(y) # maximum from the function\n",
    "print ymax\n"
   ]
  },
  {
   "cell_type": "code",
   "execution_count": 252,
   "metadata": {
    "collapsed": true
   },
   "outputs": [],
   "source": [
    "data1 = []\n",
    "for i in range(0, mc_events):\n",
    "    rnd1 = np.random.rand()\n",
    "    rnd2 = np.random.rand()\n",
    "    yrnd = ymax*rnd1 # random number between 0, ymax\n",
    "    xrnd = 2*rnd2 - 1 # random number between -1, 1\n",
    "    if yrnd < myfunction(xrnd):\n",
    "        data1.append(xrnd)\n",
    "        "
   ]
  },
  {
   "cell_type": "code",
   "execution_count": 253,
   "metadata": {},
   "outputs": [
    {
     "data": {
      "image/png": "[encoded data removed]",
      "text/plain": [
       "<matplotlib.figure.Figure at 0x111ad0fd0>"
      ]
     },
     "metadata": {},
     "output_type": "display_data"
    }
   ],
   "source": [
    "fig1, ax1 = plt.subplots(figsize=(8,6))\n",
    "plt.grid()\n",
    "ax1.hist(data1,bins = 100) #plot the data in a histogram with 100 bins\n",
    "ax1.set_xlabel(\"X\")\n",
    "ax1.set_ylabel(\"counts\")\n",
    "ax1.set_xlim(-1,1)\n",
    "plt.show()"
   ]
  },
  {
   "cell_type": "markdown",
   "metadata": {},
   "source": [
    "Now with vectorized functions ie, without loops!"
   ]
  },
  {
   "cell_type": "code",
   "execution_count": 254,
   "metadata": {
    "collapsed": true
   },
   "outputs": [],
   "source": [
    "rnd1 = np.random.rand(mc_events) #array of mc_events randon numbers!\n",
    "rnd2 = np.random.rand(mc_events) #array of mc_events randon numbers!\n",
    "yrnd = ymax*rnd1 # array of mc_events size of y's (0, ymax)\n",
    "xrnd = 2*rnd2 - 1 # array of mc_events size of x's (-1, 1)\n",
    "yprime = vmyfunction(xrnd) # array of values of function evaluated at x's\n",
    "\n",
    "data2 = xrnd[np.where(yrnd < yprime)]"
   ]
  },
  {
   "cell_type": "markdown",
   "metadata": {},
   "source": [
    "The function ```Python np.where(condition)``` is extremely useful, it returns the indexes, of the array that satisfy the ```condition``` between brackets"
   ]
  },
  {
   "cell_type": "code",
   "execution_count": 262,
   "metadata": {},
   "outputs": [
    {
     "data": {
      "image/png": "[encoded data removed]",
      "text/plain": [
       "<matplotlib.figure.Figure at 0x112df4f10>"
      ]
     },
     "metadata": {},
     "output_type": "display_data"
    }
   ],
   "source": [
    "fig2, ax2 = plt.subplots(figsize=(8,6))\n",
    "plt.grid()\n",
    "ax2.hist(data2,bins = 100, normed = True, label=\"Histogram\") #plot the data in a histogram with 100 bins\n",
    "ax2.plot(x, y, '--', lw=3, label=\"Function $f(x) = a(x^2-x^4)$\")\n",
    "ax2.set_xlabel(\"X\")\n",
    "ax2.set_ylabel(\"counts\")\n",
    "ax2.set_xlim(-1,1)\n",
    "ax2.legend()\n",
    "plt.show()"
   ]
  },
  {
   "cell_type": "markdown",
   "metadata": {},
   "source": [
    "### Inverse transformation "
   ]
  },
  {
   "cell_type": "markdown",
   "metadata": {},
   "source": [
    "\n",
    "To use this method we need to calculate the integral of our function as function of $x$, ie:\n",
    "\n",
    "\n",
    "$$g(x) = \\frac{1}{\\pi \\alpha\\left(1 + \\left(\\frac{x - x_0}{\\alpha}\\right)^2\\right)}$$\n",
    "\n",
    "$$G(x) = \\frac{1}{\\pi} \\arctan \\left(\\frac{x-x_0}{\\alpha}\\right) + \\frac{1}{2}$$\n",
    "\n",
    "\n",
    "$$G^{-1}(x) = \\alpha \\tan \\left(\\pi \\left(x - \\frac{1}{2}\\right)\\right) + x_0 $$"
   ]
  },
  {
   "cell_type": "code",
   "execution_count": 288,
   "metadata": {},
   "outputs": [],
   "source": [
    "def cauchy(x):\n",
    "    return 1./(np.pi *(1+ x**2))\n",
    "\n",
    "def inv_G(x):\n",
    "    return np.tan(np.pi*(x - 0.5))\n",
    "\n",
    "x = np.linspace(-4, 4, 100)\n",
    "y = cauchy(x)\n"
   ]
  },
  {
   "cell_type": "code",
   "execution_count": 289,
   "metadata": {},
   "outputs": [
    {
     "data": {
      "image/png": "[encoded data removed]",
      "text/plain": [
       "<matplotlib.figure.Figure at 0x111e45dd0>"
      ]
     },
     "metadata": {},
     "output_type": "display_data"
    }
   ],
   "source": [
    "fig3, ax3 = plt.subplots(figsize=(8,6))\n",
    "plt.grid()\n",
    "ax3.plot(x, y, '--', lw=3, label=\"Cauchy function\")\n",
    "ax3.set_xlabel(\"X\")\n",
    "ax3.set_ylabel(\"Y\")\n",
    "ax3.legend()\n",
    "plt.show()"
   ]
  },
  {
   "cell_type": "code",
   "execution_count": 308,
   "metadata": {},
   "outputs": [
    {
     "name": "stdout",
     "output_type": "stream",
     "text": [
      "-3664.53277278 2512.47657401\n"
     ]
    }
   ],
   "source": [
    "rnd = np.random.rand(mc_events)\n",
    "data3 = inv_G(rnd)\n",
    "\n",
    "print np.min(data3), np.max(data3)"
   ]
  },
  {
   "cell_type": "code",
   "execution_count": 307,
   "metadata": {},
   "outputs": [
    {
     "data": {
      "image/png": "[encoded data removed]",
      "text/plain": [
       "<matplotlib.figure.Figure at 0x113bac7d0>"
      ]
     },
     "metadata": {},
     "output_type": "display_data"
    }
   ],
   "source": [
    "fig4, ax4 = plt.subplots(figsize=(8,6))\n",
    "plt.grid()\n",
    "binsedges = np.arange(-4,4.5,0.2) # we dont want to show the whole range from min(data3) to max(data3) only \n",
    "binswidth = np.diff(binsedges)[0]\n",
    "\n",
    "ax4.hist(data3, bins = binsedges, normed = False, label=\"Histogram\") #plot the data in a histogram with 100 bins\n",
    "ax4.plot(x, y * mc_events * binswidth, '--', lw=3, label=\"Cauchy function\")\n",
    "\n",
    "# The following does not work, since the normed = True only normalizes the histogram in the visible range!\n",
    "#ax4.hist(data3, bins = binsedges, normed = True, label=\"Histogram\") #plot the data in a histogram with 100 bins\n",
    "#ax4.plot(x, y , '--', lw=3, label=\"Cauchy function\")\n",
    "\n",
    "\n",
    "ax4.set_xlabel(\"X\")\n",
    "ax4.set_ylabel(\"y\")\n",
    "ax4.set_xlim(-4,4)\n",
    "ax4.legend()\n",
    "plt.show()"
   ]
  }
 ],
 "metadata": {
  "kernelspec": {
   "display_name": "Python 2",
   "language": "python",
   "name": "python2"
  },
  "language_info": {
   "codemirror_mode": {
    "name": "ipython",
    "version": 2
   },
   "file_extension": ".py",
   "mimetype": "text/x-python",
   "name": "python",
   "nbconvert_exporter": "python",
   "pygments_lexer": "ipython2",
   "version": "2.7.9"
  },
  "latex_envs": {
   "bibliofile": "biblio.bib",
   "cite_by": "apalike",
   "current_citInitial": 1,
   "eqLabelWithNumbers": true,
   "eqNumInitial": 0
  }
 },
 "nbformat": 4,
 "nbformat_minor": 2
}
