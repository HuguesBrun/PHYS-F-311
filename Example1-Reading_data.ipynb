{
 "cells": [
  {
   "cell_type": "code",
   "execution_count": 7,
   "metadata": {
    "collapsed": true
   },
   "outputs": [],
   "source": [
    "%matplotlib inline\n",
    "import numpy as np\n",
    "import scipy as sp\n",
    "import matplotlib.pylab as plt\n"
   ]
  },
  {
   "cell_type": "code",
   "execution_count": 8,
   "metadata": {
    "collapsed": true
   },
   "outputs": [],
   "source": [
    "#plt.style.use('seaborn-pastel')"
   ]
  },
  {
   "cell_type": "markdown",
   "metadata": {},
   "source": [
    "### Reading a File\n",
    "\n",
    "This is an example on how to read a text file where each line gives us a content"
   ]
  },
  {
   "cell_type": "code",
   "execution_count": 9,
   "metadata": {},
   "outputs": [
    {
     "name": "stdout",
     "output_type": "stream",
     "text": [
      "invalid literal for int() with base 10: ''\n",
      "Line number 1000: \\\"\\\" cannot be converted to float\n"
     ]
    }
   ],
   "source": [
    "file = open(\"../../Lab data 2016/quartzsignal_his.dat\")\n",
    "x = [] \n",
    "i = 0\n",
    "lines = file.readlines()\n",
    "\n",
    "#print lines\n",
    "for line in lines:\n",
    "    line = line.replace('\\r\\n','')\n",
    "    line = line.replace('\\t','')\n",
    "    try:\n",
    "        data = int(line.replace('\\n', ''))\n",
    "        for j in range(data):\n",
    "            x.append(i)\n",
    "        i+=1\n",
    "    except ValueError as e:\n",
    "        print e\n",
    "        print r\"Line number %i: \\\"%s\\\" cannot be converted to float\" %(i,line)\n",
    "        \n",
    "file.close()"
   ]
  },
  {
   "cell_type": "code",
   "execution_count": 10,
   "metadata": {},
   "outputs": [
    {
     "data": {
      "image/png": "[encoded data removed]",
      "text/plain": [
       "<matplotlib.figure.Figure at 0x10f263550>"
      ]
     },
     "metadata": {},
     "output_type": "display_data"
    }
   ],
   "source": [
    "x = np.array(x)\n",
    "fig, ax = plt.subplots(figsize=(8,6))\n",
    "plt.grid()\n",
    "ax.hist(x,bins = np.arange(0,1000,1))\n",
    "ax.set_xlabel(\"ADC channel\")\n",
    "ax.set_ylabel(\"counts\")\n",
    "ax.set_xlim(0,1000)\n",
    "plt.show()"
   ]
  },
  {
   "cell_type": "markdown",
   "metadata": {},
   "source": [
    "## Monte Carlo simulation\n",
    "### Hit and Miss (exponential)\n",
    "\n",
    "On va utilizé le metode de hit and miss pour generer une distribution de données exponential.\n"
   ]
  },
  {
   "cell_type": "code",
   "execution_count": 103,
   "metadata": {},
   "outputs": [],
   "source": [
    "exp_decay = lambda x, A, t, y0: A * np.exp(-x / t) + y0"
   ]
  },
  {
   "cell_type": "code",
   "execution_count": 102,
   "metadata": {
    "collapsed": true
   },
   "outputs": [],
   "source": [
    "t = 200.\n",
    "A = 1/t \n",
    "y0 = 0.\n",
    "\n",
    "xmax = 1200\n",
    "mc_events = 10000"
   ]
  },
  {
   "cell_type": "markdown",
   "metadata": {},
   "source": [
    "First we are going to use a method à la C, ie with loops etc. Then we will see the more pythonic way"
   ]
  },
  {
   "cell_type": "code",
   "execution_count": 111,
   "metadata": {},
   "outputs": [],
   "source": [
    "data1 = []\n",
    "for i in range(0, mc_events):\n",
    "    rnd1 = np.random.rand()\n",
    "    rnd2 = np.random.rand()\n",
    "    y = A*rnd1\n",
    "    x = xmax*rnd2\n",
    "    if y < exp_decay(x, A, t, y0):\n",
    "        data1.append(x)\n",
    "        \n"
   ]
  },
  {
   "cell_type": "code",
   "execution_count": 112,
   "metadata": {},
   "outputs": [
    {
     "data": {
      "image/png": "[encoded data removed]",
      "text/plain": [
       "<matplotlib.figure.Figure at 0x117ad9d50>"
      ]
     },
     "metadata": {},
     "output_type": "display_data"
    }
   ],
   "source": [
    "fig1, ax1 = plt.subplots(figsize=(8,6))\n",
    "plt.grid()\n",
    "ax1.hist(data1,bins = 100)\n",
    "ax1.set_xlabel(\"ADC channel\")\n",
    "ax1.set_ylabel(\"counts\")\n",
    "ax1.set_xlim(0,1200)\n",
    "plt.show()"
   ]
  },
  {
   "cell_type": "markdown",
   "metadata": {},
   "source": [
    "Now let's try the more pythonic way"
   ]
  },
  {
   "cell_type": "code",
   "execution_count": 169,
   "metadata": {},
   "outputs": [
    {
     "name": "stdout",
     "output_type": "stream",
     "text": [
      "()\n"
     ]
    }
   ],
   "source": [
    "rnd1 = np.random.rand(mc_events)\n",
    "rnd2 = np.random.rand(mc_events)\n",
    "y = A*rnd1\n",
    "x = xmax*rnd2\n",
    "yprime = exp_decay(x, A, t, y0)\n",
    "\n",
    "print rnd1[0].shape\n",
    "data2 = x[np.where(y < yprime)]"
   ]
  },
  {
   "cell_type": "code",
   "execution_count": 114,
   "metadata": {},
   "outputs": [
    {
     "data": {
      "image/png": "[encoded data removed]",
      "text/plain": [
       "<matplotlib.figure.Figure at 0x117dd7150>"
      ]
     },
     "metadata": {},
     "output_type": "display_data"
    }
   ],
   "source": [
    "fig2, ax2 = plt.subplots(figsize=(8,6))\n",
    "plt.grid()\n",
    "ax2.hist(data2,bins = 100)\n",
    "ax2.set_xlabel(\"ADC channel\")\n",
    "ax2.set_ylabel(\"counts\")\n",
    "ax2.set_xlim(0,1200)\n",
    "plt.show()"
   ]
  },
  {
   "cell_type": "code",
   "execution_count": 156,
   "metadata": {},
   "outputs": [
    {
     "name": "stdout",
     "output_type": "stream",
     "text": [
      "(1592,)\n",
      "(1592,)\n",
      "(1592,)\n",
      "(1592,)\n",
      "(1592,)\n",
      "(1592,)\n",
      "(1592,)\n",
      "(1592,)\n",
      "(1592,)\n",
      "(1592,)\n",
      "(1592,)\n",
      "(1592,)\n",
      "(1592,)\n",
      "(1592,)\n",
      "(1592,)\n",
      "(1592,)\n",
      "(1592,)\n",
      "(1592,)\n",
      "(1592,)\n",
      "(1592,)\n",
      "(1592,)\n",
      "(1592,)\n",
      "(1592,)\n",
      "(1592,)\n",
      "(1592,)\n",
      "(1592,)\n",
      "(1592,)\n",
      "(1592,)\n",
      "(1592,)\n",
      "(1592,)\n",
      "(1592,)\n",
      "(1592,)\n",
      "(1592,)\n",
      "(1592,)\n",
      "(1592,)\n",
      "(1592,)\n",
      "(1592,)\n",
      "(1592,)\n",
      "(1592,)\n",
      "(1592,)\n",
      "(1592,)\n",
      "(1592,)\n",
      "(1592,)\n",
      "(1592,)\n",
      "(1592,)\n",
      "(1592,)\n",
      "(1592,)\n",
      "(1592,)\n",
      "(1592,)\n",
      "(1592,)\n",
      "(1592,)\n",
      "(1592,)\n",
      "(1592,)\n",
      "(1592,)\n",
      "(1592,)\n",
      "(1592,)\n",
      "(1592,)\n",
      "(1592,)\n",
      "(1592,)\n",
      "(1592,)\n",
      "(1592,)\n",
      "(1592,)\n",
      "(1592,)\n",
      "(1592,)\n",
      "(1592,)\n",
      "(1592,)\n",
      "(1592,)\n",
      "(1592,)\n",
      "(1592,)\n",
      "(1592,)\n",
      "(1592,)\n",
      "(1592,)\n",
      "(1592,)\n",
      "(1592,)\n",
      "(1592,)\n",
      "(1592,)\n",
      "(1592,)\n",
      "(1592,)\n",
      "(1592,)\n",
      "(1592,)\n",
      "(1592,)\n",
      "(1592,)\n",
      "(1592,)\n",
      "(1592,)\n",
      "(1592,)\n",
      "(1592,)\n",
      "(1592,)\n",
      "(1592,)\n",
      "(1592,)\n",
      "(1592,)\n",
      "(1592,)\n",
      "(1592,)\n",
      "(1592,)\n",
      "(1592,)\n",
      "(1592,)\n",
      "(1592,)\n",
      "(1592,)\n",
      "(1592,)\n",
      "(1592,)\n",
      "(1592,)\n",
      "(1592,)\n",
      "(1592,)\n",
      "(1592,)\n",
      "(1592,)\n",
      "(1592,)\n",
      "(1592,)\n",
      "(1592,)\n",
      "(1592,)\n",
      "(1592,)\n",
      "(1592,)\n",
      "(1592,)\n",
      "(1592,)\n",
      "(1592,)\n",
      "(1592,)\n",
      "(1592,)\n",
      "(1592,)\n",
      "(1592,)\n",
      "(1592,)\n",
      "(1592,)\n",
      "(1592,)\n",
      "(1592,)\n",
      "(1592,)\n",
      "(1592,)\n",
      "(1592,)\n",
      "(1592,)\n",
      "(1592,)\n",
      "(1592,)\n",
      "(1592,)\n",
      "(1592,)\n",
      "(1592,)\n",
      "(1592,)\n",
      "(1592,)\n",
      "(1592,)\n",
      "(1592,)\n",
      "(1592,)\n",
      "(1592,)\n",
      "(1592,)\n",
      "(1592,)\n",
      "(1592,)\n",
      "(1592,)\n",
      "(1592,)\n",
      "(1592,)\n",
      "(1592,)\n",
      "(1592,)\n",
      "(1592,)\n",
      "(1592,)\n",
      "(1592,)\n",
      "(1592,)\n",
      "(1592,)\n",
      "(1592,)\n",
      "(1592,)\n",
      "(1592,)\n",
      "(1592,)\n",
      "(1592,)\n",
      "(1592,)\n",
      "(1592,)\n",
      "(1592,)\n",
      "(1592,)\n",
      "(1592,)\n",
      "(1592,)\n",
      "(1592,)\n",
      "(1592,)\n",
      "(1592,)\n",
      "(1592,)\n",
      "(1592,)\n",
      "(1592,)\n",
      "(1592,)\n",
      "(1592,)\n",
      "(1592,)\n",
      "(1592,)\n",
      "(1592,)\n",
      "(1592,)\n",
      "(1592,)\n",
      "(1592,)\n",
      "(1592,)\n",
      "(1592,)\n",
      "(1592,)\n",
      "(1592,)\n",
      "(1592,)\n",
      "(1592,)\n",
      "(1592,)\n",
      "(1592,)\n",
      "(1592,)\n",
      "(1592,)\n",
      "(1592,)\n",
      "(1592,)\n",
      "(1592,)\n",
      "(1592,)\n",
      "(1592,)\n",
      "(1592,)\n",
      "(1592,)\n",
      "(1592,)\n",
      "(1592,)\n",
      "(1592,)\n",
      "(1592,)\n",
      "(1592,)\n",
      "(1592,)\n",
      "(1592,)\n",
      "(1592,)\n",
      "(1592,)\n",
      "[ 199.]\n"
     ]
    }
   ],
   "source": [
    "tmin = 100.\n",
    "tmax = 300.\n",
    "L = []\n",
    "\n",
    "tt = np.arange(tmin, tmax, 1.)\n",
    "\n",
    "for t in tt:\n",
    "    P = exp_decay(data2,1/t,t,0)\n",
    "    print data2.shape\n",
    "    L.append(np.sum(-np.log(P)))\n",
    "    \n",
    "print tt[np.where(L == np.min(L))]"
   ]
  },
  {
   "cell_type": "code",
   "execution_count": 151,
   "metadata": {},
   "outputs": [
    {
     "name": "stdout",
     "output_type": "stream",
     "text": [
      "-10133.3448696\n"
     ]
    }
   ],
   "source": [
    "print np.sum(np.log(exp_decay(data2, 1/t, t, 0)))"
   ]
  },
  {
   "cell_type": "code",
   "execution_count": 136,
   "metadata": {},
   "outputs": [
    {
     "data": {
      "text/plain": [
       "[<matplotlib.lines.Line2D at 0x10e7fbc10>]"
      ]
     },
     "execution_count": 136,
     "metadata": {},
     "output_type": "execute_result"
    },
    {
     "data": {
      "image/png": "[encoded data removed]",
      "text/plain": [
       "<matplotlib.figure.Figure at 0x119086210>"
      ]
     },
     "metadata": {},
     "output_type": "display_data"
    }
   ],
   "source": [
    "x = np.array(x)\n",
    "fig, ax = plt.subplots(figsize=(8,6))\n",
    "plt.grid()\n",
    "ax.plot(tt, L)"
   ]
  },
  {
   "cell_type": "code",
   "execution_count": null,
   "metadata": {
    "collapsed": true
   },
   "outputs": [],
   "source": []
  }
 ],
 "metadata": {
  "kernelspec": {
   "display_name": "Python 2",
   "language": "python",
   "name": "python2"
  },
  "language_info": {
   "codemirror_mode": {
    "name": "ipython",
    "version": 2
   },
   "file_extension": ".py",
   "mimetype": "text/x-python",
   "name": "python",
   "nbconvert_exporter": "python",
   "pygments_lexer": "ipython2",
   "version": "2.7.9"
  },
  "latex_envs": {
   "bibliofile": "biblio.bib",
   "cite_by": "apalike",
   "current_citInitial": 1,
   "eqLabelWithNumbers": true,
   "eqNumInitial": 0
  }
 },
 "nbformat": 4,
 "nbformat_minor": 2
}
